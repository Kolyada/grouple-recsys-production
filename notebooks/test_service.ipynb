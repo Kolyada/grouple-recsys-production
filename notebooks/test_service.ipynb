{
 "cells": [
  {
   "cell_type": "code",
   "execution_count": 1,
   "metadata": {},
   "outputs": [],
   "source": [
    "import requests as r\n",
    "from IPython.display import IFrame\n",
    "from datetime import datetime as dt\n",
    "import pickle\n",
    "from time import sleep\n",
    "import json\n",
    "\n",
    "import pandas as pd"
   ]
  },
  {
   "cell_type": "code",
   "execution_count": 9,
   "metadata": {},
   "outputs": [],
   "source": [
    "port = 5000\n",
    "user_id = 718006"
   ]
  },
  {
   "cell_type": "code",
   "execution_count": 10,
   "metadata": {},
   "outputs": [],
   "source": [
    "addr = 'http://0.0.0.0:%d/' % port"
   ]
  },
  {
   "cell_type": "code",
   "execution_count": 11,
   "metadata": {},
   "outputs": [],
   "source": [
    "# addr = 'http://recom.grouple.co:%d/' % port"
   ]
  },
  {
   "cell_type": "markdown",
   "metadata": {},
   "source": [
    "# Test methods"
   ]
  },
  {
   "cell_type": "code",
   "execution_count": 13,
   "metadata": {},
   "outputs": [
    {
     "data": {
      "text/plain": [
       "{'args': {'n_recs': '4', 'user_id': '718006'},\n",
       " 'isTopPop': 0,\n",
       " 'is_top_pop': 0,\n",
       " 'items': [{'itemId': 1363,\n",
       "   'item_id': 1363,\n",
       "   'score': 0.5584384799003601,\n",
       "   'siteId': 5,\n",
       "   'site_id': 5},\n",
       "  {'itemId': 4058,\n",
       "   'item_id': 4058,\n",
       "   'score': 0.5578657388687134,\n",
       "   'siteId': 5,\n",
       "   'site_id': 5},\n",
       "  {'itemId': 1501,\n",
       "   'item_id': 1501,\n",
       "   'score': 0.5141175389289856,\n",
       "   'siteId': 5,\n",
       "   'site_id': 5},\n",
       "  {'itemId': 2589,\n",
       "   'item_id': 2589,\n",
       "   'score': 0.5052011609077454,\n",
       "   'siteId': 5,\n",
       "   'site_id': 5}]}"
      ]
     },
     "execution_count": 13,
     "metadata": {},
     "output_type": "execute_result"
    }
   ],
   "source": [
    "method = 'recommend'\n",
    "\n",
    "resp = r.get(addr+method, params={'user_id': user_id, 'n_recs': 4})\n",
    "eval(resp.text)"
   ]
  },
  {
   "cell_type": "code",
   "execution_count": 14,
   "metadata": {},
   "outputs": [
    {
     "data": {
      "text/plain": [
       "{'args': {'n_recs': '10', 'user_id': '718006'},\n",
       " 'isTopPop': 1,\n",
       " 'is_top_pop': 1,\n",
       " 'items': [{'itemId': 3274,\n",
       "   'item_id': 3274,\n",
       "   'score': None,\n",
       "   'siteId': 5,\n",
       "   'site_id': 5},\n",
       "  {'itemId': 225, 'item_id': 225, 'score': None, 'siteId': 5, 'site_id': 5},\n",
       "  {'itemId': 5542, 'item_id': 5542, 'score': None, 'siteId': 5, 'site_id': 5},\n",
       "  {'itemId': 4058, 'item_id': 4058, 'score': None, 'siteId': 5, 'site_id': 5},\n",
       "  {'itemId': 3473, 'item_id': 3473, 'score': None, 'siteId': 5, 'site_id': 5},\n",
       "  {'itemId': 3, 'item_id': 3, 'score': None, 'siteId': 5, 'site_id': 5},\n",
       "  {'itemId': 2174, 'item_id': 2174, 'score': None, 'siteId': 5, 'site_id': 5},\n",
       "  {'itemId': 3556, 'item_id': 3556, 'score': None, 'siteId': 5, 'site_id': 5},\n",
       "  {'itemId': 5, 'item_id': 5, 'score': None, 'siteId': 5, 'site_id': 5},\n",
       "  {'itemId': 1363, 'item_id': 1363, 'score': None, 'siteId': 5, 'site_id': 5}]}"
      ]
     },
     "execution_count": 14,
     "metadata": {},
     "output_type": "execute_result"
    }
   ],
   "source": [
    "method = 'topPopular'\n",
    "\n",
    "resp = r.get(addr+method, params={'user_id': user_id, 'n_recs': 10})\n",
    "resp.json()"
   ]
  },
  {
   "cell_type": "code",
   "execution_count": null,
   "metadata": {},
   "outputs": [],
   "source": [
    "method = 'recalculate'\n",
    "\n",
    "# resp = r.get(addr+method)\n",
    "# eval(resp.text)"
   ]
  },
  {
   "cell_type": "code",
   "execution_count": 15,
   "metadata": {},
   "outputs": [
    {
     "data": {
      "text/plain": [
       "\"[[{'itemId': 5369, 'item_id': 5369, 'score': None, 'siteId': 5, 'site_id': 5}, {'itemId': 1265, 'item_id': 1265, 'score': None, 'siteId': 5, 'site_id': 5}, {'itemId': 235, 'item_id': 235, 'score': Non\""
      ]
     },
     "execution_count": 15,
     "metadata": {},
     "output_type": "execute_result"
    }
   ],
   "source": [
    "method = 'explorations'\n",
    "# without uid\n",
    "\n",
    "resp = r.get(addr+method)\n",
    "str(resp.json())[:200]"
   ]
  },
  {
   "cell_type": "code",
   "execution_count": 16,
   "metadata": {},
   "outputs": [
    {
     "data": {
      "text/plain": [
       "\"[[{'itemId': 5369, 'item_id': 5369, 'score': None, 'siteId': 5, 'site_id': 5}, {'itemId': 1265, 'item_id': 1265, 'score': None, 'siteId': 5, 'site_id': 5}, {'itemId': 235, 'item_id': 235, 'score': Non\""
      ]
     },
     "execution_count": 16,
     "metadata": {},
     "output_type": "execute_result"
    }
   ],
   "source": [
    "method = 'explorations'\n",
    "# with uid\n",
    "\n",
    "resp = r.get(addr+method, params={'user_id': user_id}) # filtred of seen items\n",
    "str(resp.json())[:200]"
   ]
  },
  {
   "cell_type": "code",
   "execution_count": 17,
   "metadata": {},
   "outputs": [
    {
     "data": {
      "text/plain": [
       "{'status': 'ok'}"
      ]
     },
     "execution_count": 17,
     "metadata": {},
     "output_type": "execute_result"
    }
   ],
   "source": [
    "method = 'rateItem'\n",
    "\n",
    "resp = r.post(addr+method, params={'user_id': user_id, 'item_id': 1265, 'rate': 10})\n",
    "eval(resp.text)"
   ]
  },
  {
   "cell_type": "code",
   "execution_count": 18,
   "metadata": {},
   "outputs": [
    {
     "data": {
      "text/plain": [
       "{'args': {'item_id': '232863', 'n_recs': '10'}, 'error': 'invalid item id'}"
      ]
     },
     "execution_count": 18,
     "metadata": {},
     "output_type": "execute_result"
    }
   ],
   "source": [
    "method = 'similarItems'\n",
    "item = 232863\n",
    "\n",
    "resp = r.get(addr+method, params={'item_id': item, 'n_recs': 10})\n",
    "eval(resp.text)"
   ]
  },
  {
   "cell_type": "code",
   "execution_count": 19,
   "metadata": {},
   "outputs": [
    {
     "data": {
      "text/plain": [
       "{'args': {'item_id': '232863', 'n_recs': '10', 'user_id': '718006'},\n",
       " 'error': 'invalid item id'}"
      ]
     },
     "execution_count": 19,
     "metadata": {},
     "output_type": "execute_result"
    }
   ],
   "source": [
    "method = 'similarItems'\n",
    "\n",
    "resp = r.get(addr+method, params={'item_id': item, 'user_id': user_id, 'n_recs': 10})\n",
    "eval(resp.text)"
   ]
  },
  {
   "cell_type": "code",
   "execution_count": null,
   "metadata": {},
   "outputs": [],
   "source": []
  }
 ],
 "metadata": {
  "kernelspec": {
   "display_name": "Python 3",
   "language": "python",
   "name": "python3"
  },
  "language_info": {
   "codemirror_mode": {
    "name": "ipython",
    "version": 3
   },
   "file_extension": ".py",
   "mimetype": "text/x-python",
   "name": "python",
   "nbconvert_exporter": "python",
   "pygments_lexer": "ipython3",
   "version": "3.6.9"
  }
 },
 "nbformat": 4,
 "nbformat_minor": 4
}
