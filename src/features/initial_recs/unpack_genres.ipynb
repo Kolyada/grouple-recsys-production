{
 "cells": [
  {
   "cell_type": "code",
   "execution_count": 1,
   "metadata": {},
   "outputs": [],
   "source": [
    "import re\n",
    "from tqdm import tqdm_notebook as tqdm\n",
    "import matplotlib.pyplot as plt\n",
    "import json\n",
    "\n",
    "BUFFER_SIZE = 1500"
   ]
  },
  {
   "cell_type": "code",
   "execution_count": 2,
   "metadata": {},
   "outputs": [],
   "source": [
    "from datetime import datetime as dt\n",
    "def to_timestamp(timestr):\n",
    "    dtobj = dt.strptime(timestr, '%Y-%m-%d %H:%M:%S')\n",
    "    timestamp = int(dtobj.timestamp())\n",
    "    return timestamp\n",
    "\n",
    "'''\n",
    "`id` bigint(20) NOT NULL,\n",
    "`site_id` bigint(20) NOT NULL,\n",
    "`link_name` varchar(255) CHARACTER SET utf8 NOT NULL,\n",
    "`pic_url` varchar(255) CHARACTER SET utf8 DEFAULT NULL,\n",
    "`date_created` datetime NOT NULL,\n",
    "`genres_names_string` varchar(300) CHARACTER SET utf8 DEFAULT NULL,\n",
    "`tags_names_string` var\n",
    "'''\n",
    "\n",
    "def parse_row(row):\n",
    "    quote_opened = False\n",
    "    content = []\n",
    "    curr_content = ''\n",
    "    for symb in row:\n",
    "        if quote_opened:\n",
    "            if symb != \"'\":\n",
    "                curr_content += symb\n",
    "            else:\n",
    "                quote_opened = False\n",
    "                content.append(curr_content)\n",
    "                curr_content = ''\n",
    "\n",
    "        else:\n",
    "            if symb == \"'\":\n",
    "                quote_opened = True\n",
    "            elif symb == ',':\n",
    "                # comma-separated value. Not comma inside quote\n",
    "                if len(curr_content) > 0:\n",
    "                    content.append(curr_content)\n",
    "                    curr_content = ''\n",
    "            else:\n",
    "                curr_content += symb\n",
    "    if len(curr_content):\n",
    "        content.append(curr_content)\n",
    "        \n",
    "    return content\n",
    "\n",
    "def cast_row_objects(row):\n",
    "    for i, item in enumerate(row):\n",
    "        if all(map(str.isdigit, item)):\n",
    "            row[i] = int(item)\n",
    "        elif item == 'NULL':\n",
    "            row[i] = None\n",
    "        elif ', ' in item:\n",
    "            row[i] = item.split(', ')\n",
    "    return row\n",
    "\n",
    "\n",
    "def read_dump(dump_filename, target_table):\n",
    "    fast_forward = True\n",
    "    buffer = []\n",
    "    \n",
    "    with open(dump_filename, 'r') as fin:\n",
    "#         with open(csv_path, 'w') as fout:\n",
    "\n",
    "        for line in tqdm(fin):\n",
    "            line = line.strip()\n",
    "            if line.lower().startswith('insert') and target_table in line:\n",
    "                fast_forward = False\n",
    "            if fast_forward:\n",
    "                continue\n",
    "\n",
    "            data = re.findall('\\([^\\)]*\\)', line)\n",
    "            for i, obj in enumerate(data):\n",
    "                # (254995,6,'strashno_prekrasen','https://static...','2020-10-...','fantasy, love','bulvarnaia_proza, proza')\n",
    "                try:\n",
    "                    row = obj[1:-1] # drop brackets\n",
    "                    row = parse_row(row)\n",
    "                    if len(row) != 7:\n",
    "                        continue\n",
    "                    \n",
    "                    useful_cols_ixs = (0, 1, 5, 6)                        \n",
    "                    row = [row[ix] for ix in useful_cols_ixs]\n",
    "                    row = cast_row_objects(row)\n",
    "                    buffer.append(row)\n",
    "#                         if len(buffer) > BUFFER_SIZE:\n",
    "#                             fout.write('\\n'.join(buffer) + '\\n') # write out\n",
    "#                             buffer = []\n",
    "\n",
    "                except Exception as e:\n",
    "                    pass#raise e\n",
    "                    \n",
    "#             fout.write('\\n'.join(buffer)) # last data writing\n",
    "    return buffer"
   ]
  },
  {
   "cell_type": "code",
   "execution_count": 3,
   "metadata": {},
   "outputs": [
    {
     "name": "stderr",
     "output_type": "stream",
     "text": [
      "/usr/local/lib/python3.6/dist-packages/ipykernel_launcher.py:63: TqdmDeprecationWarning: This function will be removed in tqdm==5.0.0\n",
      "Please use `tqdm.notebook.tqdm` instead of `tqdm.tqdm_notebook`\n"
     ]
    },
    {
     "data": {
      "application/vnd.jupyter.widget-view+json": {
       "model_id": "463482bdf4724e6e8bfb8a423e25f8e3",
       "version_major": 2,
       "version_minor": 0
      },
      "text/plain": [
       "HBox(children=(HTML(value=''), FloatProgress(value=1.0, bar_style='info', layout=Layout(width='20px'), max=1.0…"
      ]
     },
     "metadata": {},
     "output_type": "display_data"
    },
    {
     "name": "stdout",
     "output_type": "stream",
     "text": [
      "\n"
     ]
    }
   ],
   "source": [
    "path = '/data/groupLe_recsys/raw/all-genres.sql'\n",
    "\n",
    "data = read_dump(path, 'el_recomm')"
   ]
  },
  {
   "cell_type": "code",
   "execution_count": 4,
   "metadata": {},
   "outputs": [
    {
     "name": "stdout",
     "output_type": "stream",
     "text": [
      "143224\n",
      "[2581, 3, ['comedy', 'shounen', 'supernatural'], None]\n"
     ]
    }
   ],
   "source": [
    "print(len(data))\n",
    "print(data[0])"
   ]
  },
  {
   "cell_type": "code",
   "execution_count": 5,
   "metadata": {},
   "outputs": [
    {
     "name": "stdout",
     "output_type": "stream",
     "text": [
      "written 20813 object for dorama\n",
      "written 20087 object for manga\n",
      "written 13110 object for mint\n",
      "written 86710 object for book\n"
     ]
    }
   ],
   "source": [
    "site_ids = {'dorama': 5,\n",
    "            'manga':  1,\n",
    "            'mint': 2,\n",
    "            'book':   6}\n",
    "\n",
    "path_pattern = '../../data/interim/{}/genres.json'\n",
    "\n",
    "for site_name, site_id in site_ids.items():\n",
    "    jsons = []\n",
    "    \n",
    "    for row in data:\n",
    "        if row[1] != site_id:\n",
    "            continue\n",
    "            \n",
    "        def validate(collection):\n",
    "            # collection may be list of items or item or None\n",
    "            if collection is None:\n",
    "                return []\n",
    "            if isinstance(collection, str):\n",
    "                return [collection]\n",
    "            else:\n",
    "                return collection\n",
    "            \n",
    "        genres = validate(row[2])\n",
    "        tags = validate(row[3])\n",
    "        marks = list(set(genres + tags))\n",
    "        marks = genres\n",
    "        obj = {'id': row[0],\n",
    "               'genres': marks}\n",
    "        jsons.append(obj)\n",
    "        \n",
    "    path = path_pattern.format(site_name)\n",
    "    json.dump(jsons, open(path, 'w'))\n",
    "    \n",
    "    print('written %d object for %s' % (len(jsons), site_name))"
   ]
  },
  {
   "cell_type": "code",
   "execution_count": 6,
   "metadata": {},
   "outputs": [
    {
     "data": {
      "text/plain": [
       "[[234705, 6, 'detective', 'classic'],\n",
       " [111845, 6, ['animal', 'adventure'], None],\n",
       " [108069, 6, ['animal', 'adventure'], None],\n",
       " [81132, 6, ['adventure', 'animal'], None],\n",
       " [62435, 6, ['adventure', 'animal'], 'children'],\n",
       " [21593,\n",
       "  6,\n",
       "  ['animal', 'psychology', 'adventure'],\n",
       "  ['children', 'rus_classic']],\n",
       " [224275, 6, 'drama', 'children'],\n",
       " [211605, 6, 'military', 'children'],\n",
       " [177119, 6, None, 'children'],\n",
       " [158296, 6, ['animal', 'adventure'], 'children'],\n",
       " [123715, 6, None, 'children'],\n",
       " [95892, 6, ['animal', 'adventure'], None],\n",
       " [35407, 6, None, 'children'],\n",
       " [200193, 6, None, 'children'],\n",
       " [233314,\n",
       "  6,\n",
       "  ['humor', 'antique_myths', 'horror'],\n",
       "  ['children', 'rus_classic']],\n",
       " [194587, 6, None, 'children'],\n",
       " [227199, 6, None, 'children'],\n",
       " [41666, 6, None, 'children'],\n",
       " [212129, 6, None, 'children'],\n",
       " [205611, 6, 'sf', 'children'],\n",
       " [151102, 6, None, None],\n",
       " [30025, 6, 'sf', ['children', 'sovremennaia_russkaia_proza']],\n",
       " [132350, 6, ['travel', 'adventure'], None],\n",
       " [151734, 6, 'sf', None],\n",
       " [205079, 6, None, 'children'],\n",
       " [234170, 6, ['history', 'military', 'love', 'drama'], 'classic'],\n",
       " [95396,\n",
       "  6,\n",
       "  ['satira', 'humor', 'religion', 'social', 'political'],\n",
       "  ['classic', 'bestseller']],\n",
       " [205566, 6, None, 'classic'],\n",
       " [227052, 6, None, 'classic'],\n",
       " [232402,\n",
       "  6,\n",
       "  ['epic', 'adventure', 'heroic', 'philosophy', 'fantasy'],\n",
       "  'classic']]"
      ]
     },
     "execution_count": 6,
     "metadata": {},
     "output_type": "execute_result"
    }
   ],
   "source": [
    "books = list(filter(lambda row: row[1] == 6, data))\n",
    "books[:30]"
   ]
  },
  {
   "cell_type": "code",
   "execution_count": 7,
   "metadata": {},
   "outputs": [],
   "source": [
    "gs = set()\n",
    "for item in jsons:\n",
    "    for g in item['genres']:\n",
    "        gs.add(g)"
   ]
  },
  {
   "cell_type": "code",
   "execution_count": 8,
   "metadata": {},
   "outputs": [
    {
     "data": {
      "text/plain": [
       "84"
      ]
     },
     "execution_count": 8,
     "metadata": {},
     "output_type": "execute_result"
    }
   ],
   "source": [
    "len(gs)"
   ]
  },
  {
   "cell_type": "code",
   "execution_count": 9,
   "metadata": {},
   "outputs": [
    {
     "data": {
      "text/plain": [
       "{'absurd',\n",
       " 'action',\n",
       " 'adventure',\n",
       " 'alternativnaia_istoriia',\n",
       " 'animal',\n",
       " 'antique_myths',\n",
       " 'art',\n",
       " 'astronomiia',\n",
       " 'autobiographic',\n",
       " 'biographic',\n",
       " 'counter',\n",
       " 'crime',\n",
       " 'cyberpunk',\n",
       " 'detective',\n",
       " 'documentary',\n",
       " 'drama',\n",
       " 'dystopia',\n",
       " 'ekonomika',\n",
       " 'epic',\n",
       " 'erotika',\n",
       " 'espionage',\n",
       " 'fantasy',\n",
       " 'fizika',\n",
       " 'gorodskoe_fentezi',\n",
       " 'gotika',\n",
       " 'hard',\n",
       " 'heroic',\n",
       " 'history',\n",
       " 'horror',\n",
       " 'hronoopera',\n",
       " 'humor',\n",
       " 'irony',\n",
       " 'kitchen',\n",
       " 'kosmicheskaia_fantastika',\n",
       " 'kosmicheskaia_opera',\n",
       " 'kulturologiia',\n",
       " 'literaturovedenie',\n",
       " 'love',\n",
       " 'love_relation',\n",
       " 'magicheskii_realizm',\n",
       " 'maniac',\n",
       " 'medicina',\n",
       " 'melodrama',\n",
       " 'military',\n",
       " 'morskie_prikliucheniia',\n",
       " 'mystery',\n",
       " 'mystik',\n",
       " 'nauchnaia_fantastika',\n",
       " 'noir',\n",
       " 'parodiia',\n",
       " 'philosophy',\n",
       " 'police',\n",
       " 'political',\n",
       " 'popular_science',\n",
       " 'postapocalyptic',\n",
       " 'postmodernizm',\n",
       " 'povsednevnost',\n",
       " 'psihodelika',\n",
       " 'psihologiia',\n",
       " 'psychology',\n",
       " 'realizm',\n",
       " 'religion',\n",
       " 'retellings',\n",
       " 'roman_vospitaniia',\n",
       " 'romantika',\n",
       " 'samosovershenstvovanie',\n",
       " 'saspens',\n",
       " 'satira',\n",
       " 'semeinaia_saga',\n",
       " 'sentimental',\n",
       " 'sf',\n",
       " 'shkola',\n",
       " 'simvolizm',\n",
       " 'siurrealizm',\n",
       " 'social',\n",
       " 'sport',\n",
       " 'thriller',\n",
       " 'time_travelling',\n",
       " 'tragediia',\n",
       " 'travel',\n",
       " 'utopia',\n",
       " 'vospitanie_detei',\n",
       " 'western',\n",
       " 'zdorove'}"
      ]
     },
     "execution_count": 9,
     "metadata": {},
     "output_type": "execute_result"
    }
   ],
   "source": [
    "gs"
   ]
  }
 ],
 "metadata": {
  "kernelspec": {
   "display_name": "Python 3",
   "language": "python",
   "name": "python3"
  },
  "language_info": {
   "codemirror_mode": {
    "name": "ipython",
    "version": 3
   },
   "file_extension": ".py",
   "mimetype": "text/x-python",
   "name": "python",
   "nbconvert_exporter": "python",
   "pygments_lexer": "ipython3",
   "version": "3.6.9"
  }
 },
 "nbformat": 4,
 "nbformat_minor": 4
}
