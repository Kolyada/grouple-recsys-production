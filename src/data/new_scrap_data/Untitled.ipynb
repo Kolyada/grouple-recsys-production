{
 "cells": [
  {
   "cell_type": "code",
   "execution_count": 1,
   "metadata": {},
   "outputs": [],
   "source": [
    "import requests\n",
    "from requests.auth import HTTPProxyAuth"
   ]
  },
  {
   "cell_type": "code",
   "execution_count": 2,
   "metadata": {},
   "outputs": [],
   "source": [
    "s = requests.Session()\n",
    "s.trust_env = False"
   ]
  },
  {
   "cell_type": "code",
   "execution_count": 4,
   "metadata": {},
   "outputs": [
    {
     "data": {
      "text/plain": [
       "<Response [200]>"
      ]
     },
     "execution_count": 4,
     "metadata": {},
     "output_type": "execute_result"
    }
   ],
   "source": [
    "proxy_data = {'address': '194.156.93.45',\n",
    "              'port': '61943',\n",
    "              'login': 'x7q0tFH9lZ',\n",
    "              'password': 'bCgLww5qUV'}\n",
    "\n",
    "# auth = HTTPProxyAuth(proxy_data['login'], proxy_data['password'])\n",
    "auth = proxy_data['login'] + ':' + proxy_data['password']\n",
    "proxy = {'http': 'http://'+auth+'@'+proxy_data['address']+':'+proxy_data['port'], \n",
    "         'https': 'https://'+auth+'@'+proxy_data['address']+':'+proxy_data['port']}\n",
    "\n",
    "url = 'https://grouple.co/login/authenticate'\n",
    "payload = {'username': 'ARQtty', 'password': '28dog28DOG'}\n",
    "s.post(url, data=payload, proxies=proxy)"
   ]
  },
  {
   "cell_type": "code",
   "execution_count": null,
   "metadata": {},
   "outputs": [],
   "source": [
    "s.trust_env"
   ]
  },
  {
   "cell_type": "code",
   "execution_count": null,
   "metadata": {},
   "outputs": [],
   "source": []
  }
 ],
 "metadata": {
  "kernelspec": {
   "display_name": "Python 3",
   "language": "python",
   "name": "python3"
  },
  "language_info": {
   "codemirror_mode": {
    "name": "ipython",
    "version": 3
   },
   "file_extension": ".py",
   "mimetype": "text/x-python",
   "name": "python",
   "nbconvert_exporter": "python",
   "pygments_lexer": "ipython3",
   "version": "3.6.9"
  }
 },
 "nbformat": 4,
 "nbformat_minor": 4
}
